{
 "cells": [
  {
   "cell_type": "markdown",
   "metadata": {
    "id": "jDUIqIBW_11H"
   },
   "source": [
    "Q1. Install MLflow\n",
    "To get started with MLflow you'll need to install the MLflow Python package.\n",
    "\n",
    "For this we recommend creating a separate Python environment, for example, you can use conda environments, and then install the package there with pip or conda.\n",
    "\n",
    "Once you installed the package, run the command mlflow --version and check the output.\n",
    "\n",
    "What's the version that you have?"
   ]
  },
  {
   "cell_type": "code",
   "execution_count": 1,
   "metadata": {
    "colab": {
     "base_uri": "https://localhost:8080/"
    },
    "id": "wTaZSrrK_f5g",
    "outputId": "c3d164d5-5bc4-4ae1-b15a-ad03c307b194"
   },
   "outputs": [
    {
     "name": "stdout",
     "output_type": "stream",
     "text": [
      "Requirement already satisfied: mlflow in /home/ubuntu/.venv/lib/python3.10/site-packages (2.13.1)\n",
      "Requirement already satisfied: protobuf<5,>=3.12.0 in /home/ubuntu/.venv/lib/python3.10/site-packages (from mlflow) (4.25.3)\n",
      "Requirement already satisfied: sqlalchemy<3,>=1.4.0 in /home/ubuntu/.venv/lib/python3.10/site-packages (from mlflow) (2.0.30)\n",
      "Requirement already satisfied: pandas<3 in /home/ubuntu/.venv/lib/python3.10/site-packages (from mlflow) (2.2.2)\n",
      "Requirement already satisfied: pyyaml<7,>=5.1 in /home/ubuntu/.venv/lib/python3.10/site-packages (from mlflow) (6.0.1)\n",
      "Requirement already satisfied: cloudpickle<4 in /home/ubuntu/.venv/lib/python3.10/site-packages (from mlflow) (3.0.0)\n",
      "Requirement already satisfied: numpy<2 in /home/ubuntu/.venv/lib/python3.10/site-packages (from mlflow) (1.26.4)\n",
      "Requirement already satisfied: opentelemetry-api<3,>=1.0.0 in /home/ubuntu/.venv/lib/python3.10/site-packages (from mlflow) (1.25.0)\n",
      "Requirement already satisfied: pytz<2025 in /home/ubuntu/.venv/lib/python3.10/site-packages (from mlflow) (2024.1)\n",
      "Requirement already satisfied: Jinja2<4,>=2.11 in /home/ubuntu/.venv/lib/python3.10/site-packages (from mlflow) (3.1.4)\n",
      "Requirement already satisfied: graphene<4 in /home/ubuntu/.venv/lib/python3.10/site-packages (from mlflow) (3.3)\n",
      "Requirement already satisfied: pyarrow<16,>=4.0.0 in /home/ubuntu/.venv/lib/python3.10/site-packages (from mlflow) (15.0.2)\n",
      "Requirement already satisfied: packaging<25 in /home/ubuntu/.venv/lib/python3.10/site-packages (from mlflow) (24.0)\n",
      "Requirement already satisfied: Flask<4 in /home/ubuntu/.venv/lib/python3.10/site-packages (from mlflow) (3.0.3)\n",
      "Requirement already satisfied: markdown<4,>=3.3 in /home/ubuntu/.venv/lib/python3.10/site-packages (from mlflow) (3.6)\n",
      "Requirement already satisfied: scikit-learn<2 in /home/ubuntu/.venv/lib/python3.10/site-packages (from mlflow) (1.5.0)\n",
      "Requirement already satisfied: requests<3,>=2.17.3 in /home/ubuntu/.venv/lib/python3.10/site-packages (from mlflow) (2.32.3)\n",
      "Requirement already satisfied: docker<8,>=4.0.0 in /home/ubuntu/.venv/lib/python3.10/site-packages (from mlflow) (7.1.0)\n",
      "Requirement already satisfied: entrypoints<1 in /home/ubuntu/.venv/lib/python3.10/site-packages (from mlflow) (0.4)\n",
      "Requirement already satisfied: alembic!=1.10.0,<2 in /home/ubuntu/.venv/lib/python3.10/site-packages (from mlflow) (1.13.1)\n",
      "Requirement already satisfied: matplotlib<4 in /home/ubuntu/.venv/lib/python3.10/site-packages (from mlflow) (3.9.0)\n",
      "Requirement already satisfied: click<9,>=7.0 in /home/ubuntu/.venv/lib/python3.10/site-packages (from mlflow) (8.1.7)\n",
      "Requirement already satisfied: scipy<2 in /home/ubuntu/.venv/lib/python3.10/site-packages (from mlflow) (1.13.1)\n",
      "Requirement already satisfied: gunicorn<23 in /home/ubuntu/.venv/lib/python3.10/site-packages (from mlflow) (22.0.0)\n",
      "Requirement already satisfied: querystring-parser<2 in /home/ubuntu/.venv/lib/python3.10/site-packages (from mlflow) (1.2.4)\n",
      "Requirement already satisfied: cachetools<6,>=5.0.0 in /home/ubuntu/.venv/lib/python3.10/site-packages (from mlflow) (5.3.3)\n",
      "Requirement already satisfied: importlib-metadata!=4.7.0,<8,>=3.7.0 in /home/ubuntu/.venv/lib/python3.10/site-packages (from mlflow) (7.1.0)\n",
      "Requirement already satisfied: gitpython<4,>=3.1.9 in /home/ubuntu/.venv/lib/python3.10/site-packages (from mlflow) (3.1.43)\n",
      "Requirement already satisfied: opentelemetry-sdk<3,>=1.0.0 in /home/ubuntu/.venv/lib/python3.10/site-packages (from mlflow) (1.25.0)\n",
      "Requirement already satisfied: sqlparse<1,>=0.4.0 in /home/ubuntu/.venv/lib/python3.10/site-packages (from mlflow) (0.5.0)\n",
      "Requirement already satisfied: typing-extensions>=4 in /home/ubuntu/.venv/lib/python3.10/site-packages (from alembic!=1.10.0,<2->mlflow) (4.12.1)\n",
      "Requirement already satisfied: Mako in /home/ubuntu/.venv/lib/python3.10/site-packages (from alembic!=1.10.0,<2->mlflow) (1.3.5)\n",
      "Requirement already satisfied: urllib3>=1.26.0 in /home/ubuntu/.venv/lib/python3.10/site-packages (from docker<8,>=4.0.0->mlflow) (2.2.1)\n",
      "Requirement already satisfied: blinker>=1.6.2 in /home/ubuntu/.venv/lib/python3.10/site-packages (from Flask<4->mlflow) (1.8.2)\n",
      "Requirement already satisfied: itsdangerous>=2.1.2 in /home/ubuntu/.venv/lib/python3.10/site-packages (from Flask<4->mlflow) (2.2.0)\n",
      "Requirement already satisfied: Werkzeug>=3.0.0 in /home/ubuntu/.venv/lib/python3.10/site-packages (from Flask<4->mlflow) (3.0.3)\n",
      "Requirement already satisfied: gitdb<5,>=4.0.1 in /home/ubuntu/.venv/lib/python3.10/site-packages (from gitpython<4,>=3.1.9->mlflow) (4.0.11)\n",
      "Requirement already satisfied: graphql-core<3.3,>=3.1 in /home/ubuntu/.venv/lib/python3.10/site-packages (from graphene<4->mlflow) (3.2.3)\n",
      "Requirement already satisfied: aniso8601<10,>=8 in /home/ubuntu/.venv/lib/python3.10/site-packages (from graphene<4->mlflow) (9.0.1)\n",
      "Requirement already satisfied: graphql-relay<3.3,>=3.1 in /home/ubuntu/.venv/lib/python3.10/site-packages (from graphene<4->mlflow) (3.2.0)\n",
      "Requirement already satisfied: zipp>=0.5 in /home/ubuntu/.venv/lib/python3.10/site-packages (from importlib-metadata!=4.7.0,<8,>=3.7.0->mlflow) (3.19.1)\n",
      "Requirement already satisfied: MarkupSafe>=2.0 in /home/ubuntu/.venv/lib/python3.10/site-packages (from Jinja2<4,>=2.11->mlflow) (2.1.5)\n",
      "Requirement already satisfied: cycler>=0.10 in /home/ubuntu/.venv/lib/python3.10/site-packages (from matplotlib<4->mlflow) (0.12.1)\n",
      "Requirement already satisfied: fonttools>=4.22.0 in /home/ubuntu/.venv/lib/python3.10/site-packages (from matplotlib<4->mlflow) (4.53.0)\n",
      "Requirement already satisfied: contourpy>=1.0.1 in /home/ubuntu/.venv/lib/python3.10/site-packages (from matplotlib<4->mlflow) (1.2.1)\n",
      "Requirement already satisfied: python-dateutil>=2.7 in /home/ubuntu/.venv/lib/python3.10/site-packages (from matplotlib<4->mlflow) (2.9.0.post0)\n",
      "Requirement already satisfied: pyparsing>=2.3.1 in /home/ubuntu/.venv/lib/python3.10/site-packages (from matplotlib<4->mlflow) (3.1.2)\n",
      "Requirement already satisfied: pillow>=8 in /home/ubuntu/.venv/lib/python3.10/site-packages (from matplotlib<4->mlflow) (10.3.0)\n",
      "Requirement already satisfied: kiwisolver>=1.3.1 in /home/ubuntu/.venv/lib/python3.10/site-packages (from matplotlib<4->mlflow) (1.4.5)\n",
      "Requirement already satisfied: deprecated>=1.2.6 in /home/ubuntu/.venv/lib/python3.10/site-packages (from opentelemetry-api<3,>=1.0.0->mlflow) (1.2.14)\n",
      "Requirement already satisfied: opentelemetry-semantic-conventions==0.46b0 in /home/ubuntu/.venv/lib/python3.10/site-packages (from opentelemetry-sdk<3,>=1.0.0->mlflow) (0.46b0)\n",
      "Requirement already satisfied: tzdata>=2022.7 in /home/ubuntu/.venv/lib/python3.10/site-packages (from pandas<3->mlflow) (2024.1)\n",
      "Requirement already satisfied: six in /home/ubuntu/.venv/lib/python3.10/site-packages (from querystring-parser<2->mlflow) (1.16.0)\n",
      "Requirement already satisfied: charset-normalizer<4,>=2 in /home/ubuntu/.venv/lib/python3.10/site-packages (from requests<3,>=2.17.3->mlflow) (3.3.2)\n",
      "Requirement already satisfied: idna<4,>=2.5 in /home/ubuntu/.venv/lib/python3.10/site-packages (from requests<3,>=2.17.3->mlflow) (3.7)\n",
      "Requirement already satisfied: certifi>=2017.4.17 in /home/ubuntu/.venv/lib/python3.10/site-packages (from requests<3,>=2.17.3->mlflow) (2024.6.2)\n",
      "Requirement already satisfied: threadpoolctl>=3.1.0 in /home/ubuntu/.venv/lib/python3.10/site-packages (from scikit-learn<2->mlflow) (3.5.0)\n",
      "Requirement already satisfied: joblib>=1.2.0 in /home/ubuntu/.venv/lib/python3.10/site-packages (from scikit-learn<2->mlflow) (1.4.2)\n",
      "Requirement already satisfied: greenlet!=0.4.17 in /home/ubuntu/.venv/lib/python3.10/site-packages (from sqlalchemy<3,>=1.4.0->mlflow) (3.0.3)\n",
      "Requirement already satisfied: wrapt<2,>=1.10 in /home/ubuntu/.venv/lib/python3.10/site-packages (from deprecated>=1.2.6->opentelemetry-api<3,>=1.0.0->mlflow) (1.16.0)\n",
      "Requirement already satisfied: smmap<6,>=3.0.1 in /home/ubuntu/.venv/lib/python3.10/site-packages (from gitdb<5,>=4.0.1->gitpython<4,>=3.1.9->mlflow) (5.0.1)\n"
     ]
    }
   ],
   "source": [
    "!pip install mlflow"
   ]
  },
  {
   "cell_type": "code",
   "execution_count": 2,
   "metadata": {
    "colab": {
     "base_uri": "https://localhost:8080/"
    },
    "id": "00pJr5w-AJmg",
    "outputId": "530677b2-77ab-4b01-c187-8699ac3c3a43"
   },
   "outputs": [
    {
     "name": "stdout",
     "output_type": "stream",
     "text": [
      "mlflow, version 2.13.1\n"
     ]
    }
   ],
   "source": [
    "!mlflow --version"
   ]
  },
  {
   "cell_type": "markdown",
   "metadata": {
    "id": "JAV7gITAATmQ"
   },
   "source": [
    "Q2. Download and preprocess the data\n",
    "We'll use the Green Taxi Trip Records dataset to predict the duration of each trip.\n",
    "\n",
    "Download the data for January, February and March 2023 in parquet format from here.\n",
    "\n",
    "Use the script preprocess_data.py located in the folder homework to preprocess the data.\n",
    "\n",
    "The script will:\n",
    "\n",
    "load the data from the folder <TAXI_DATA_FOLDER> (the folder where you have downloaded the data),\n",
    "fit a DictVectorizer on the training set (January 2023 data),\n",
    "save the preprocessed datasets and the DictVectorizer to disk.\n",
    "Your task is to download the datasets and then execute this command:\n",
    "\n",
    "\n",
    "```\n",
    "python preprocess_data.py --raw_data_path <TAXI_DATA_FOLDER> --dest_path ./output\n",
    "```\n",
    "\n",
    "Tip: go to 02-experiment-tracking/homework/ folder before executing the command and change the value of <TAXI_DATA_FOLDER> to the location where you saved the data.\n",
    "\n",
    "How many files were saved to OUTPUT_FOLDER?\n",
    "\n",
    "1\n",
    "3\n",
    "4\n",
    "7\n",
    "\n"
   ]
  },
  {
   "cell_type": "code",
   "execution_count": 3,
   "metadata": {
    "colab": {
     "base_uri": "https://localhost:8080/"
    },
    "id": "bHqreCxEAdR1",
    "outputId": "eb910cc5-5799-42c2-a03b-638f62b1de49"
   },
   "outputs": [
    {
     "name": "stdout",
     "output_type": "stream",
     "text": [
      "Requirement already satisfied: pandas in /home/ubuntu/.venv/lib/python3.10/site-packages (2.2.2)\n",
      "Requirement already satisfied: scikit-learn in /home/ubuntu/.venv/lib/python3.10/site-packages (1.5.0)\n",
      "Requirement already satisfied: click in /home/ubuntu/.venv/lib/python3.10/site-packages (8.1.7)\n",
      "Requirement already satisfied: mlflow in /home/ubuntu/.venv/lib/python3.10/site-packages (2.13.1)\n",
      "Requirement already satisfied: tzdata>=2022.7 in /home/ubuntu/.venv/lib/python3.10/site-packages (from pandas) (2024.1)\n",
      "Requirement already satisfied: pytz>=2020.1 in /home/ubuntu/.venv/lib/python3.10/site-packages (from pandas) (2024.1)\n",
      "Requirement already satisfied: numpy>=1.22.4 in /home/ubuntu/.venv/lib/python3.10/site-packages (from pandas) (1.26.4)\n",
      "Requirement already satisfied: python-dateutil>=2.8.2 in /home/ubuntu/.venv/lib/python3.10/site-packages (from pandas) (2.9.0.post0)\n",
      "Requirement already satisfied: joblib>=1.2.0 in /home/ubuntu/.venv/lib/python3.10/site-packages (from scikit-learn) (1.4.2)\n",
      "Requirement already satisfied: threadpoolctl>=3.1.0 in /home/ubuntu/.venv/lib/python3.10/site-packages (from scikit-learn) (3.5.0)\n",
      "Requirement already satisfied: scipy>=1.6.0 in /home/ubuntu/.venv/lib/python3.10/site-packages (from scikit-learn) (1.13.1)\n",
      "Requirement already satisfied: alembic!=1.10.0,<2 in /home/ubuntu/.venv/lib/python3.10/site-packages (from mlflow) (1.13.1)\n",
      "Requirement already satisfied: gitpython<4,>=3.1.9 in /home/ubuntu/.venv/lib/python3.10/site-packages (from mlflow) (3.1.43)\n",
      "Requirement already satisfied: protobuf<5,>=3.12.0 in /home/ubuntu/.venv/lib/python3.10/site-packages (from mlflow) (4.25.3)\n",
      "Requirement already satisfied: gunicorn<23 in /home/ubuntu/.venv/lib/python3.10/site-packages (from mlflow) (22.0.0)\n",
      "Requirement already satisfied: Jinja2<4,>=2.11 in /home/ubuntu/.venv/lib/python3.10/site-packages (from mlflow) (3.1.4)\n",
      "Requirement already satisfied: sqlparse<1,>=0.4.0 in /home/ubuntu/.venv/lib/python3.10/site-packages (from mlflow) (0.5.0)\n",
      "Requirement already satisfied: entrypoints<1 in /home/ubuntu/.venv/lib/python3.10/site-packages (from mlflow) (0.4)\n",
      "Requirement already satisfied: matplotlib<4 in /home/ubuntu/.venv/lib/python3.10/site-packages (from mlflow) (3.9.0)\n",
      "Requirement already satisfied: docker<8,>=4.0.0 in /home/ubuntu/.venv/lib/python3.10/site-packages (from mlflow) (7.1.0)\n",
      "Requirement already satisfied: importlib-metadata!=4.7.0,<8,>=3.7.0 in /home/ubuntu/.venv/lib/python3.10/site-packages (from mlflow) (7.1.0)\n",
      "Requirement already satisfied: sqlalchemy<3,>=1.4.0 in /home/ubuntu/.venv/lib/python3.10/site-packages (from mlflow) (2.0.30)\n",
      "Requirement already satisfied: markdown<4,>=3.3 in /home/ubuntu/.venv/lib/python3.10/site-packages (from mlflow) (3.6)\n",
      "Requirement already satisfied: cachetools<6,>=5.0.0 in /home/ubuntu/.venv/lib/python3.10/site-packages (from mlflow) (5.3.3)\n",
      "Requirement already satisfied: opentelemetry-api<3,>=1.0.0 in /home/ubuntu/.venv/lib/python3.10/site-packages (from mlflow) (1.25.0)\n",
      "Requirement already satisfied: packaging<25 in /home/ubuntu/.venv/lib/python3.10/site-packages (from mlflow) (24.0)\n",
      "Requirement already satisfied: querystring-parser<2 in /home/ubuntu/.venv/lib/python3.10/site-packages (from mlflow) (1.2.4)\n",
      "Requirement already satisfied: pyyaml<7,>=5.1 in /home/ubuntu/.venv/lib/python3.10/site-packages (from mlflow) (6.0.1)\n",
      "Requirement already satisfied: graphene<4 in /home/ubuntu/.venv/lib/python3.10/site-packages (from mlflow) (3.3)\n",
      "Requirement already satisfied: requests<3,>=2.17.3 in /home/ubuntu/.venv/lib/python3.10/site-packages (from mlflow) (2.32.3)\n",
      "Requirement already satisfied: pyarrow<16,>=4.0.0 in /home/ubuntu/.venv/lib/python3.10/site-packages (from mlflow) (15.0.2)\n",
      "Requirement already satisfied: opentelemetry-sdk<3,>=1.0.0 in /home/ubuntu/.venv/lib/python3.10/site-packages (from mlflow) (1.25.0)\n",
      "Requirement already satisfied: Flask<4 in /home/ubuntu/.venv/lib/python3.10/site-packages (from mlflow) (3.0.3)\n",
      "Requirement already satisfied: cloudpickle<4 in /home/ubuntu/.venv/lib/python3.10/site-packages (from mlflow) (3.0.0)\n",
      "Requirement already satisfied: typing-extensions>=4 in /home/ubuntu/.venv/lib/python3.10/site-packages (from alembic!=1.10.0,<2->mlflow) (4.12.1)\n",
      "Requirement already satisfied: Mako in /home/ubuntu/.venv/lib/python3.10/site-packages (from alembic!=1.10.0,<2->mlflow) (1.3.5)\n",
      "Requirement already satisfied: urllib3>=1.26.0 in /home/ubuntu/.venv/lib/python3.10/site-packages (from docker<8,>=4.0.0->mlflow) (2.2.1)\n",
      "Requirement already satisfied: itsdangerous>=2.1.2 in /home/ubuntu/.venv/lib/python3.10/site-packages (from Flask<4->mlflow) (2.2.0)\n",
      "Requirement already satisfied: Werkzeug>=3.0.0 in /home/ubuntu/.venv/lib/python3.10/site-packages (from Flask<4->mlflow) (3.0.3)\n",
      "Requirement already satisfied: blinker>=1.6.2 in /home/ubuntu/.venv/lib/python3.10/site-packages (from Flask<4->mlflow) (1.8.2)\n",
      "Requirement already satisfied: gitdb<5,>=4.0.1 in /home/ubuntu/.venv/lib/python3.10/site-packages (from gitpython<4,>=3.1.9->mlflow) (4.0.11)\n",
      "Requirement already satisfied: graphql-core<3.3,>=3.1 in /home/ubuntu/.venv/lib/python3.10/site-packages (from graphene<4->mlflow) (3.2.3)\n",
      "Requirement already satisfied: graphql-relay<3.3,>=3.1 in /home/ubuntu/.venv/lib/python3.10/site-packages (from graphene<4->mlflow) (3.2.0)\n",
      "Requirement already satisfied: aniso8601<10,>=8 in /home/ubuntu/.venv/lib/python3.10/site-packages (from graphene<4->mlflow) (9.0.1)\n",
      "Requirement already satisfied: zipp>=0.5 in /home/ubuntu/.venv/lib/python3.10/site-packages (from importlib-metadata!=4.7.0,<8,>=3.7.0->mlflow) (3.19.1)\n",
      "Requirement already satisfied: MarkupSafe>=2.0 in /home/ubuntu/.venv/lib/python3.10/site-packages (from Jinja2<4,>=2.11->mlflow) (2.1.5)\n",
      "Requirement already satisfied: contourpy>=1.0.1 in /home/ubuntu/.venv/lib/python3.10/site-packages (from matplotlib<4->mlflow) (1.2.1)\n",
      "Requirement already satisfied: pillow>=8 in /home/ubuntu/.venv/lib/python3.10/site-packages (from matplotlib<4->mlflow) (10.3.0)\n",
      "Requirement already satisfied: pyparsing>=2.3.1 in /home/ubuntu/.venv/lib/python3.10/site-packages (from matplotlib<4->mlflow) (3.1.2)\n",
      "Requirement already satisfied: kiwisolver>=1.3.1 in /home/ubuntu/.venv/lib/python3.10/site-packages (from matplotlib<4->mlflow) (1.4.5)\n",
      "Requirement already satisfied: fonttools>=4.22.0 in /home/ubuntu/.venv/lib/python3.10/site-packages (from matplotlib<4->mlflow) (4.53.0)\n",
      "Requirement already satisfied: cycler>=0.10 in /home/ubuntu/.venv/lib/python3.10/site-packages (from matplotlib<4->mlflow) (0.12.1)\n",
      "Requirement already satisfied: deprecated>=1.2.6 in /home/ubuntu/.venv/lib/python3.10/site-packages (from opentelemetry-api<3,>=1.0.0->mlflow) (1.2.14)\n",
      "Requirement already satisfied: opentelemetry-semantic-conventions==0.46b0 in /home/ubuntu/.venv/lib/python3.10/site-packages (from opentelemetry-sdk<3,>=1.0.0->mlflow) (0.46b0)\n",
      "Requirement already satisfied: six>=1.5 in /home/ubuntu/.venv/lib/python3.10/site-packages (from python-dateutil>=2.8.2->pandas) (1.16.0)\n",
      "Requirement already satisfied: charset-normalizer<4,>=2 in /home/ubuntu/.venv/lib/python3.10/site-packages (from requests<3,>=2.17.3->mlflow) (3.3.2)\n",
      "Requirement already satisfied: certifi>=2017.4.17 in /home/ubuntu/.venv/lib/python3.10/site-packages (from requests<3,>=2.17.3->mlflow) (2024.6.2)\n",
      "Requirement already satisfied: idna<4,>=2.5 in /home/ubuntu/.venv/lib/python3.10/site-packages (from requests<3,>=2.17.3->mlflow) (3.7)\n",
      "Requirement already satisfied: greenlet!=0.4.17 in /home/ubuntu/.venv/lib/python3.10/site-packages (from sqlalchemy<3,>=1.4.0->mlflow) (3.0.3)\n",
      "Requirement already satisfied: wrapt<2,>=1.10 in /home/ubuntu/.venv/lib/python3.10/site-packages (from deprecated>=1.2.6->opentelemetry-api<3,>=1.0.0->mlflow) (1.16.0)\n",
      "Requirement already satisfied: smmap<6,>=3.0.1 in /home/ubuntu/.venv/lib/python3.10/site-packages (from gitdb<5,>=4.0.1->gitpython<4,>=3.1.9->mlflow) (5.0.1)\n"
     ]
    }
   ],
   "source": [
    "!pip install pandas scikit-learn click mlflow"
   ]
  },
  {
   "cell_type": "code",
   "execution_count": 5,
   "metadata": {
    "id": "x7UDc4giCgpf"
   },
   "outputs": [],
   "source": [
    "# Define the paths\n",
    "raw_data_path = './taxi_data'\n",
    "dest_path = './output'\n",
    "\n",
    "# Run the preprocessing script\n",
    "!python ./homework/preprocess_data.py --raw_data_path {raw_data_path} --dest_path {dest_path}\n"
   ]
  },
  {
   "cell_type": "code",
   "execution_count": 6,
   "metadata": {
    "colab": {
     "base_uri": "https://localhost:8080/"
    },
    "id": "QPk2xc3UDkFI",
    "outputId": "4caabec6-c0f6-4cd2-8325-ed50ceecf2be"
   },
   "outputs": [
    {
     "name": "stdout",
     "output_type": "stream",
     "text": [
      "Files in output directory: ['dv.pkl', 'val.pkl', 'test.pkl', 'train.pkl']\n",
      "Number of files in output directory: 4\n"
     ]
    }
   ],
   "source": [
    "import os\n",
    "\n",
    "# List files in the output directory\n",
    "output_files = os.listdir(dest_path)\n",
    "print(f\"Files in output directory: {output_files}\")\n",
    "\n",
    "# Count the number of files\n",
    "num_files = len(output_files)\n",
    "print(f\"Number of files in output directory: {num_files}\")\n"
   ]
  },
  {
   "cell_type": "markdown",
   "metadata": {
    "id": "kLcizAb-D0Ls"
   },
   "source": [
    "Q3. Train a model with autolog\n",
    "We will train a RandomForestRegressor (from Scikit-Learn) on the taxi dataset.\n",
    "\n",
    "We have prepared the training script train.py for this exercise, which can be also found in the folder homework.\n",
    "\n",
    "The script will:\n",
    "\n",
    "load the datasets produced by the previous step,\n",
    "train the model on the training set,\n",
    "calculate the RMSE score on the validation set.\n",
    "Your task is to modify the script to enable autologging with MLflow, execute the script and then launch the MLflow UI to check that the experiment run was properly tracked.\n",
    "\n",
    "Tip 1: don't forget to wrap the training code with a with mlflow.start_run(): statement as we showed in the videos.\n",
    "\n",
    "Tip 2: don't modify the hyperparameters of the model to make sure that the training will finish quickly.\n",
    "\n",
    "What is the value of the min_samples_split parameter:\n",
    "\n",
    "2\n",
    "4\n",
    "8\n",
    "10"
   ]
  },
  {
   "cell_type": "code",
   "execution_count": 19,
   "metadata": {},
   "outputs": [
    {
     "name": "stdout",
     "output_type": "stream",
     "text": [
      "2024/06/02 12:27:21 WARNING mlflow.utils.autologging_utils: You are using an unsupported version of sklearn. If you encounter errors during autologging, try upgrading / downgrading sklearn to a supported version, or try upgrading MLflow.\n",
      "2024/06/02 12:27:23 WARNING mlflow.sklearn: Failed to log training dataset information to MLflow Tracking. Reason: 'numpy.ndarray' object has no attribute 'toarray'\n",
      "/home/ubuntu/.venv/lib/python3.10/site-packages/sklearn/metrics/_regression.py:492: FutureWarning: 'squared' is deprecated in version 1.4 and will be removed in 1.6. To calculate the root mean squared error, use the function'root_mean_squared_error'.\n",
      "  warnings.warn(\n",
      "RMSE: 5.430491057913692\n"
     ]
    }
   ],
   "source": [
    "!python train.py"
   ]
  },
  {
   "cell_type": "code",
   "execution_count": 17,
   "metadata": {},
   "outputs": [
    {
     "name": "stdout",
     "output_type": "stream",
     "text": [
      "/home/ubuntu/.venv/lib/python3.10/site-packages/sklearn/metrics/_regression.py:492: FutureWarning: 'squared' is deprecated in version 1.4 and will be removed in 1.6. To calculate the root mean squared error, use the function'root_mean_squared_error'.\n",
      "  warnings.warn(\n"
     ]
    }
   ],
   "source": [
    "# Step 1: Install required packages\n",
    "#!pip install mlflow pyngrok --quiet\n",
    "\n",
    "# Step 2: Import required modules\n",
    "import os\n",
    "import mlflow\n",
    "#from pyngrok import ngrok\n",
    "\n",
    "# Step 3: Run the training script with autologging\n",
    "# Define the path to the train.py script\n",
    "train_script_path = \"./homework/train.py\"\n",
    "\n",
    "# Start an MLflow run and run the training script\n",
    "with mlflow.start_run():\n",
    "    !python {train_script_path} --data_path ./output\n",
    "\n",
    "# # Step 4: Access MLflow UI\n",
    "# # Start ngrok to create a tunnel to access the MLflow UI\n",
    "# ngrok_tunnel = ngrok.connect(addr=\"5000\", proto=\"http\", options={\"bind_tls\": True})\n",
    "\n",
    "# # Print the public URL of the tunnel\n",
    "# print(\"MLflow UI:\", ngrok_tunnel.public_url)\n"
   ]
  },
  {
   "cell_type": "code",
   "execution_count": 20,
   "metadata": {},
   "outputs": [
    {
     "name": "stdout",
     "output_type": "stream",
     "text": [
      "[2024-06-02 12:27:47 +0630] [5487] [INFO] Starting gunicorn 22.0.0\n",
      "[2024-06-02 12:27:47 +0630] [5487] [INFO] Listening at: http://127.0.0.1:5000 (5487)\n",
      "[2024-06-02 12:27:47 +0630] [5487] [INFO] Using worker: sync\n",
      "[2024-06-02 12:27:47 +0630] [5488] [INFO] Booting worker with pid: 5488\n",
      "[2024-06-02 12:27:47 +0630] [5489] [INFO] Booting worker with pid: 5489\n",
      "[2024-06-02 12:27:47 +0630] [5490] [INFO] Booting worker with pid: 5490\n",
      "[2024-06-02 12:27:47 +0630] [5491] [INFO] Booting worker with pid: 5491\n",
      "^C\n",
      "[2024-06-02 12:34:24 +0630] [5487] [INFO] Handling signal: int\n",
      "[2024-06-02 12:34:24 +0630] [5488] [INFO] Worker exiting (pid: 5488)\n",
      "[2024-06-02 12:34:24 +0630] [5489] [INFO] Worker exiting (pid: 5489)\n",
      "[2024-06-02 12:34:24 +0630] [5490] [INFO] Worker exiting (pid: 5490)\n",
      "[2024-06-02 12:34:24 +0630] [5491] [INFO] Worker exiting (pid: 5491)\n"
     ]
    }
   ],
   "source": [
    "!mlflow ui --port 5000"
   ]
  },
  {
   "cell_type": "markdown",
   "metadata": {},
   "source": [
    "Q4. Launch the tracking server locally\n",
    "Now we want to manage the entire lifecycle of our ML model. In this step, you'll need to launch a tracking server. This way we will also have access to the model registry.\n",
    "\n",
    "Your task is to:\n",
    "\n",
    "launch the tracking server on your local machine,\n",
    "select a SQLite db for the backend store and a folder called artifacts for the artifacts store.\n",
    "You should keep the tracking server running to work on the next two exercises that use the server.\n",
    "\n",
    "In addition to backend-store-uri, what else do you need to pass to properly configure the server?\n",
    "\n",
    "default-artifact-root\n",
    "serve-artifacts\n",
    "artifacts-only\n",
    "artifacts-destination"
   ]
  },
  {
   "cell_type": "markdown",
   "metadata": {},
   "source": [
    "default-artifact-root"
   ]
  },
  {
   "cell_type": "code",
   "execution_count": 29,
   "metadata": {},
   "outputs": [
    {
     "name": "stdout",
     "output_type": "stream",
     "text": [
      "Requirement already satisfied: sqlalchemy in /home/ubuntu/.venv/lib/python3.10/site-packages (2.0.30)\n",
      "Requirement already satisfied: typing-extensions>=4.6.0 in /home/ubuntu/.venv/lib/python3.10/site-packages (from sqlalchemy) (4.12.1)\n",
      "Requirement already satisfied: greenlet!=0.4.17 in /home/ubuntu/.venv/lib/python3.10/site-packages (from sqlalchemy) (3.0.3)\n"
     ]
    }
   ],
   "source": [
    "!pip install sqlalchemy"
   ]
  },
  {
   "cell_type": "code",
   "execution_count": 38,
   "metadata": {},
   "outputs": [
    {
     "name": "stderr",
     "output_type": "stream",
     "text": [
      "[2024-06-02 16:51:35 +0630] [6527] [INFO] Starting gunicorn 22.0.0\n",
      "[2024-06-02 16:51:35 +0630] [6527] [INFO] Listening at: http://0.0.0.0:5000 (6527)\n",
      "[2024-06-02 16:51:35 +0630] [6527] [INFO] Using worker: sync\n",
      "[2024-06-02 16:51:35 +0630] [6528] [INFO] Booting worker with pid: 6528\n",
      "[2024-06-02 16:51:36 +0630] [6529] [INFO] Booting worker with pid: 6529\n",
      "[2024-06-02 16:51:36 +0630] [6530] [INFO] Booting worker with pid: 6530\n",
      "[2024-06-02 16:51:36 +0630] [6531] [INFO] Booting worker with pid: 6531\n"
     ]
    }
   ],
   "source": [
    "get_ipython().system_raw(\"mlflow server --backend-store-uri sqlite:///database.db --default-artifact-root ./artifacts --host 0.0.0.0 &\")"
   ]
  },
  {
   "cell_type": "markdown",
   "metadata": {},
   "source": [
    "Q5. Tune model hyperparameters\n",
    "Now let's try to reduce the validation error by tuning the hyperparameters of the RandomForestRegressor using hyperopt. We have prepared the script hpo.py for this exercise.\n",
    "\n",
    "Your task is to modify the script hpo.py and make sure that the validation RMSE is logged to the tracking server for each run of the hyperparameter optimization (you will need to add a few lines of code to the objective function) and run the script without passing any parameters.\n",
    "\n",
    "After that, open UI and explore the runs from the experiment called random-forest-hyperopt to answer the question below.\n",
    "\n",
    "Note: Don't use autologging for this exercise.\n",
    "\n",
    "The idea is to just log the information that you need to answer the question below, including:\n",
    "\n",
    "the list of hyperparameters that are passed to the objective function during the optimization,\n",
    "the RMSE obtained on the validation set (February 2023 data).\n",
    "What's the best validation RMSE that you got?\n",
    "\n",
    "4.817\n",
    "5.335\n",
    "5.818\n",
    "6.336"
   ]
  },
  {
   "cell_type": "code",
   "execution_count": 40,
   "metadata": {},
   "outputs": [
    {
     "name": "stdout",
     "output_type": "stream",
     "text": [
      "Collecting hyperopt\n",
      "  Downloading hyperopt-0.2.7-py2.py3-none-any.whl (1.6 MB)\n",
      "\u001b[2K     \u001b[90m━━━━━━━━━━━━━━━━━━━━━━━━━━━━━━━━━━━━━━━━\u001b[0m \u001b[32m1.6/1.6 MB\u001b[0m \u001b[31m7.9 MB/s\u001b[0m eta \u001b[36m0:00:00\u001b[0ma \u001b[36m0:00:01\u001b[0m\n",
      "\u001b[?25hRequirement already satisfied: click in /home/ubuntu/.venv/lib/python3.10/site-packages (8.1.7)\n",
      "Collecting tqdm\n",
      "  Downloading tqdm-4.66.4-py3-none-any.whl (78 kB)\n",
      "\u001b[2K     \u001b[90m━━━━━━━━━━━━━━━━━━━━━━━━━━━━━━━━━━━━━━━━\u001b[0m \u001b[32m78.3/78.3 KB\u001b[0m \u001b[31m7.9 MB/s\u001b[0m eta \u001b[36m0:00:00\u001b[0m\n",
      "\u001b[?25hRequirement already satisfied: numpy in /home/ubuntu/.venv/lib/python3.10/site-packages (from hyperopt) (1.26.4)\n",
      "Collecting networkx>=2.2\n",
      "  Downloading networkx-3.3-py3-none-any.whl (1.7 MB)\n",
      "\u001b[2K     \u001b[90m━━━━━━━━━━━━━━━━━━━━━━━━━━━━━━━━━━━━━━━━\u001b[0m \u001b[32m1.7/1.7 MB\u001b[0m \u001b[31m11.3 MB/s\u001b[0m eta \u001b[36m0:00:00\u001b[0m00:01\u001b[0m00:01\u001b[0m\n",
      "\u001b[?25hRequirement already satisfied: six in /home/ubuntu/.venv/lib/python3.10/site-packages (from hyperopt) (1.16.0)\n",
      "Collecting future\n",
      "  Downloading future-1.0.0-py3-none-any.whl (491 kB)\n",
      "\u001b[2K     \u001b[90m━━━━━━━━━━━━━━━━━━━━━━━━━━━━━━━━━━━━━━\u001b[0m \u001b[32m491.3/491.3 KB\u001b[0m \u001b[31m10.9 MB/s\u001b[0m eta \u001b[36m0:00:00\u001b[0ma \u001b[36m0:00:01\u001b[0m\n",
      "\u001b[?25hCollecting py4j\n",
      "  Downloading py4j-0.10.9.7-py2.py3-none-any.whl (200 kB)\n",
      "\u001b[2K     \u001b[90m━━━━━━━━━━━━━━━━━━━━━━━━━━━━━━━━━━━━━━━\u001b[0m \u001b[32m200.5/200.5 KB\u001b[0m \u001b[31m7.1 MB/s\u001b[0m eta \u001b[36m0:00:00\u001b[0m\n",
      "\u001b[?25hRequirement already satisfied: scipy in /home/ubuntu/.venv/lib/python3.10/site-packages (from hyperopt) (1.13.1)\n",
      "Requirement already satisfied: cloudpickle in /home/ubuntu/.venv/lib/python3.10/site-packages (from hyperopt) (3.0.0)\n",
      "Installing collected packages: py4j, tqdm, networkx, future, hyperopt\n",
      "Successfully installed future-1.0.0 hyperopt-0.2.7 networkx-3.3 py4j-0.10.9.7 tqdm-4.66.4\n"
     ]
    }
   ],
   "source": [
    "!pip install hyperopt click"
   ]
  },
  {
   "cell_type": "code",
   "execution_count": 41,
   "metadata": {},
   "outputs": [
    {
     "name": "stdout",
     "output_type": "stream",
     "text": [
      "2024/06/02 16:55:26 INFO mlflow.tracking.fluent: Experiment with name 'random-forest-hyperopt' does not exist. Creating a new experiment.\n",
      "  0%|                                    | 0/15 [00:00<?, ?trial/s, best loss=?]/home/ubuntu/.venv/lib/python3.10/site-packages/sklearn/metrics/_regression.py:492: FutureWarning: 'squared' is deprecated in version 1.4 and will be removed in 1.6. To calculate the root mean squared error, use the function'root_mean_squared_error'.\n",
      "  warnings.warn(\n",
      "\n",
      "  7%|▋          | 1/15 [00:08<01:57,  8.42s/trial, best loss: 5.370086069268862]/home/ubuntu/.venv/lib/python3.10/site-packages/sklearn/metrics/_regression.py:492: FutureWarning: 'squared' is deprecated in version 1.4 and will be removed in 1.6. To calculate the root mean squared error, use the function'root_mean_squared_error'.\n",
      "  warnings.warn(\n",
      "\n",
      " 13%|█▍         | 2/15 [00:08<00:48,  3.73s/trial, best loss: 5.370086069268862]/home/ubuntu/.venv/lib/python3.10/site-packages/sklearn/metrics/_regression.py:492: FutureWarning: 'squared' is deprecated in version 1.4 and will be removed in 1.6. To calculate the root mean squared error, use the function'root_mean_squared_error'.\n",
      "  warnings.warn(\n",
      "\n",
      " 20%|██▏        | 3/15 [00:09<00:27,  2.32s/trial, best loss: 5.370086069268862]/home/ubuntu/.venv/lib/python3.10/site-packages/sklearn/metrics/_regression.py:492: FutureWarning: 'squared' is deprecated in version 1.4 and will be removed in 1.6. To calculate the root mean squared error, use the function'root_mean_squared_error'.\n",
      "  warnings.warn(\n",
      "\n",
      " 27%|██▉        | 4/15 [00:14<00:38,  3.53s/trial, best loss: 5.357490752366866]/home/ubuntu/.venv/lib/python3.10/site-packages/sklearn/metrics/_regression.py:492: FutureWarning: 'squared' is deprecated in version 1.4 and will be removed in 1.6. To calculate the root mean squared error, use the function'root_mean_squared_error'.\n",
      "  warnings.warn(\n",
      "\n",
      " 33%|███▋       | 5/15 [00:17<00:31,  3.11s/trial, best loss: 5.357490752366866]/home/ubuntu/.venv/lib/python3.10/site-packages/sklearn/metrics/_regression.py:492: FutureWarning: 'squared' is deprecated in version 1.4 and will be removed in 1.6. To calculate the root mean squared error, use the function'root_mean_squared_error'.\n",
      "  warnings.warn(\n",
      "\n",
      " 40%|████▍      | 6/15 [00:26<00:46,  5.13s/trial, best loss: 5.354695072530291]/home/ubuntu/.venv/lib/python3.10/site-packages/sklearn/metrics/_regression.py:492: FutureWarning: 'squared' is deprecated in version 1.4 and will be removed in 1.6. To calculate the root mean squared error, use the function'root_mean_squared_error'.\n",
      "  warnings.warn(\n",
      "\n",
      " 47%|█████▏     | 7/15 [00:35<00:50,  6.36s/trial, best loss: 5.354695072530291]/home/ubuntu/.venv/lib/python3.10/site-packages/sklearn/metrics/_regression.py:492: FutureWarning: 'squared' is deprecated in version 1.4 and will be removed in 1.6. To calculate the root mean squared error, use the function'root_mean_squared_error'.\n",
      "  warnings.warn(\n",
      "\n",
      " 53%|█████▊     | 8/15 [00:36<00:32,  4.62s/trial, best loss: 5.354695072530291]/home/ubuntu/.venv/lib/python3.10/site-packages/sklearn/metrics/_regression.py:492: FutureWarning: 'squared' is deprecated in version 1.4 and will be removed in 1.6. To calculate the root mean squared error, use the function'root_mean_squared_error'.\n",
      "  warnings.warn(\n",
      "\n",
      " 60%|██████▌    | 9/15 [00:41<00:28,  4.80s/trial, best loss: 5.354695072530291]/home/ubuntu/.venv/lib/python3.10/site-packages/sklearn/metrics/_regression.py:492: FutureWarning: 'squared' is deprecated in version 1.4 and will be removed in 1.6. To calculate the root mean squared error, use the function'root_mean_squared_error'.\n",
      "  warnings.warn(\n",
      "\n",
      " 67%|██████▋   | 10/15 [00:45<00:23,  4.65s/trial, best loss: 5.354695072530291]/home/ubuntu/.venv/lib/python3.10/site-packages/sklearn/metrics/_regression.py:492: FutureWarning: 'squared' is deprecated in version 1.4 and will be removed in 1.6. To calculate the root mean squared error, use the function'root_mean_squared_error'.\n",
      "  warnings.warn(\n",
      "\n",
      " 73%|███████▎  | 11/15 [00:49<00:17,  4.32s/trial, best loss: 5.335419588556921]/home/ubuntu/.venv/lib/python3.10/site-packages/sklearn/metrics/_regression.py:492: FutureWarning: 'squared' is deprecated in version 1.4 and will be removed in 1.6. To calculate the root mean squared error, use the function'root_mean_squared_error'.\n",
      "  warnings.warn(\n",
      "\n",
      " 80%|████████  | 12/15 [00:51<00:11,  3.77s/trial, best loss: 5.335419588556921]/home/ubuntu/.venv/lib/python3.10/site-packages/sklearn/metrics/_regression.py:492: FutureWarning: 'squared' is deprecated in version 1.4 and will be removed in 1.6. To calculate the root mean squared error, use the function'root_mean_squared_error'.\n",
      "  warnings.warn(\n",
      "\n",
      " 87%|████████▋ | 13/15 [00:52<00:05,  2.89s/trial, best loss: 5.335419588556921]/home/ubuntu/.venv/lib/python3.10/site-packages/sklearn/metrics/_regression.py:492: FutureWarning: 'squared' is deprecated in version 1.4 and will be removed in 1.6. To calculate the root mean squared error, use the function'root_mean_squared_error'.\n",
      "  warnings.warn(\n",
      "\n",
      " 93%|█████████▎| 14/15 [00:55<00:02,  2.92s/trial, best loss: 5.335419588556921]/home/ubuntu/.venv/lib/python3.10/site-packages/sklearn/metrics/_regression.py:492: FutureWarning: 'squared' is deprecated in version 1.4 and will be removed in 1.6. To calculate the root mean squared error, use the function'root_mean_squared_error'.\n",
      "  warnings.warn(\n",
      "\n",
      "100%|██████████| 15/15 [01:00<00:00,  4.02s/trial, best loss: 5.335419588556921]\n"
     ]
    }
   ],
   "source": [
    "!python ./homework/newhpo.py --data_path ./output --num_trials 15"
   ]
  },
  {
   "cell_type": "markdown",
   "metadata": {},
   "source": [
    "Q6. Promote the best model to the model registry\n",
    "The results from the hyperparameter optimization are quite good. So, we can assume that we are ready to test some of these models in production. In this exercise, you'll promote the best model to the model registry. We have prepared a script called register_model.py, which will check the results from the previous step and select the top 5 runs. After that, it will calculate the RMSE of those models on the test set (March 2023 data) and save the results to a new experiment called random-forest-best-models.\n",
    "\n",
    "Your task is to update the script register_model.py so that it selects the model with the lowest RMSE on the test set and registers it to the model registry.\n",
    "\n",
    "Tip 1: you can use the method search_runs from the MlflowClient to get the model with the lowest RMSE,\n",
    "\n",
    "Tip 2: to register the model you can use the method mlflow.register_model and you will need to pass the right model_uri in the form of a string that looks like this: \"runs:/<RUN_ID>/model\", and the name of the model (make sure to choose a good one!).\n",
    "\n",
    "What is the test RMSE of the best model?\n",
    "\n",
    "5.060\n",
    "5.567\n",
    "6.061\n",
    "6.568"
   ]
  },
  {
   "cell_type": "code",
   "execution_count": 46,
   "metadata": {},
   "outputs": [
    {
     "name": "stdout",
     "output_type": "stream",
     "text": [
      "2024/06/02 17:11:30 INFO mlflow.tracking.fluent: Experiment with name 'random-forest-best-models' does not exist. Creating a new experiment.\n",
      "2024/06/02 17:11:30 WARNING mlflow.utils.autologging_utils: You are using an unsupported version of sklearn. If you encounter errors during autologging, try upgrading / downgrading sklearn to a supported version, or try upgrading MLflow.\n",
      "2024/06/02 17:11:31 WARNING mlflow.sklearn: Failed to log training dataset information to MLflow Tracking. Reason: 'numpy.ndarray' object has no attribute 'toarray'\n",
      "/home/ubuntu/.venv/lib/python3.10/site-packages/sklearn/metrics/_regression.py:492: FutureWarning: 'squared' is deprecated in version 1.4 and will be removed in 1.6. To calculate the root mean squared error, use the function'root_mean_squared_error'.\n",
      "  warnings.warn(\n"
     ]
    }
   ],
   "source": [
    "!python ./homework/new_register_model.py --data_path ./output --top_n 5"
   ]
  },
  {
   "cell_type": "code",
   "execution_count": null,
   "metadata": {},
   "outputs": [],
   "source": []
  }
 ],
 "metadata": {
  "colab": {
   "provenance": []
  },
  "kernelspec": {
   "display_name": "Python 3 (ipykernel)",
   "language": "python",
   "name": "python3"
  },
  "language_info": {
   "codemirror_mode": {
    "name": "ipython",
    "version": 3
   },
   "file_extension": ".py",
   "mimetype": "text/x-python",
   "name": "python",
   "nbconvert_exporter": "python",
   "pygments_lexer": "ipython3",
   "version": "3.10.12"
  }
 },
 "nbformat": 4,
 "nbformat_minor": 4
}
